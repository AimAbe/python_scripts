def split_nodes(input_string):
    # Split by newlines to get each node groups
    node_groups = input_string.strip().split('\n')

    for group in node_groups:
        group = group.strip()
        if not group:
            continue

        try:
            # Handle nodes that start with different patterns
            if 'dav-doccodeqc-script-' in group:
                base = 'dav-doccodeqc-script'
                numbers = group.split('script-')[1].split('/')
                domain = '.cld.uspto.gov'
            elif 'ippdav0' in group:
                parts = group.split('-')
                base = parts[0]
                numbers = parts[1].split('/')
                domain = '.cloud.uspto.gov'
            else:
                # Standard case
                if '-1/' in group:
                    base, rest = group.split('-1/', 1)
                    numbers = ['1'] + rest.split('/')
                    domain = '.' + rest.split('.', 1)[1]
                else:
                    base, rest = group.rsplit('-', 1)
                    numbers = rest.split('/')
                    domain = '.' + rest.split('.', 1)[1]

            # Print nodes
            for num in numbers:
                if num.endswith(domain):
                    num = num[:-len(domain)]
                if num.isdigit():
                    print(f"{base}-{num}{domain}")

        except Exception as e:
            print(f"Error processing: {group}")
            print(f"Error: {str(e)}")

# Paste your nodes string here
nodes = """test-url-1/2.com"""  # your string here
split_nodes(nodes)
