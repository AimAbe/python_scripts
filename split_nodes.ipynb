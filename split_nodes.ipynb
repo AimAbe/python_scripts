{
  "nbformat": 4,
  "nbformat_minor": 0,
  "metadata": {
    "colab": {
      "provenance": [],
      "authorship_tag": "ABX9TyMqUUPTUtQ5YzGOXBApnk4r",
      "include_colab_link": true
    },
    "kernelspec": {
      "name": "python3",
      "display_name": "Python 3"
    },
    "language_info": {
      "name": "python"
    }
  },
  "cells": [
    {
      "cell_type": "markdown",
      "metadata": {
        "id": "view-in-github",
        "colab_type": "text"
      },
      "source": [
        "<a href=\"https://colab.research.google.com/github/AimAbe/python_scripts/blob/main/split_nodes.ipynb\" target=\"_parent\"><img src=\"https://colab.research.google.com/assets/colab-badge.svg\" alt=\"Open In Colab\"/></a>"
      ]
    },
    {
      "cell_type": "code",
      "execution_count": 11,
      "metadata": {
        "colab": {
          "base_uri": "https://localhost:8080/"
        },
        "outputId": "e8a2df1b-1ecd-4a32-a1ea-76ebc761b853",
        "id": "SG3Z_KDWyZbt"
      },
      "outputs": [
        {
          "output_type": "stream",
          "name": "stdout",
          "text": [
            "test-url-1.com\n",
            "test-url-2.com\n"
          ]
        }
      ],
      "source": [
        "def split_nodes(input_string):\n",
        "    # Split by newlines to get each node groups\n",
        "    node_groups = input_string.strip().split('\\n')\n",
        "\n",
        "    for group in node_groups:\n",
        "        group = group.strip()\n",
        "        if not group:\n",
        "            continue\n",
        "\n",
        "        try:\n",
        "            # Handle nodes that start with different patterns\n",
        "            if 'dav-doccodeqc-script-' in group:\n",
        "                base = 'dav-doccodeqc-script'\n",
        "                numbers = group.split('script-')[1].split('/')\n",
        "                domain = '.cld.uspto.gov'\n",
        "            elif 'ippdav0' in group:\n",
        "                parts = group.split('-')\n",
        "                base = parts[0]\n",
        "                numbers = parts[1].split('/')\n",
        "                domain = '.cloud.uspto.gov'\n",
        "            else:\n",
        "                # Standard case\n",
        "                if '-1/' in group:\n",
        "                    base, rest = group.split('-1/', 1)\n",
        "                    numbers = ['1'] + rest.split('/')\n",
        "                    domain = '.' + rest.split('.', 1)[1]\n",
        "                else:\n",
        "                    base, rest = group.rsplit('-', 1)\n",
        "                    numbers = rest.split('/')\n",
        "                    domain = '.' + rest.split('.', 1)[1]\n",
        "\n",
        "            # Print nodes\n",
        "            for num in numbers:\n",
        "                if num.endswith(domain):\n",
        "                    num = num[:-len(domain)]\n",
        "                if num.isdigit():\n",
        "                    print(f\"{base}-{num}{domain}\")\n",
        "\n",
        "        except Exception as e:\n",
        "            print(f\"Error processing: {group}\")\n",
        "            print(f\"Error: {str(e)}\")\n",
        "\n",
        "# Paste your nodes string here\n",
        "nodes = \"\"\"test-url-1/2.com\"\"\"  # your string here\n",
        "split_nodes(nodes)"
      ]
    }
  ]
}